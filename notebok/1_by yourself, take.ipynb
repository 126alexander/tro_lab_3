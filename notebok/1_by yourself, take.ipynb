{
 "cells": [
  {
   "cell_type": "markdown",
   "metadata": {},
   "source": [
    "# Матричный метод:\n"
   ]
  },
  {
   "cell_type": "code",
   "execution_count": 15,
   "metadata": {},
   "outputs": [
    {
     "name": "stdout",
     "output_type": "stream",
     "text": [
      "X2 =  [ 1.0984127   1.33650794 -1.08253968]\n"
     ]
    }
   ],
   "source": [
    "import numpy as np\n",
    "A = [[15, 25, 35],[9, 8, 7],[8, 12, 10]]\n",
    "B = [12, 13, 14]\n",
    "OM = np.linalg.inv(A) \n",
    "X2 = np.matmul(OM, B) \n",
    "print('X2 = ',X2)"
   ]
  },
  {
   "cell_type": "markdown",
   "metadata": {},
   "source": [
    "# Метод Крамера:"
   ]
  },
  {
   "cell_type": "code",
   "execution_count": 30,
   "metadata": {},
   "outputs": [
    {
     "name": "stdout",
     "output_type": "stream",
     "text": [
      "[-1.6476190476190486, 6.828571428571435, -3.8285714285714296]\n",
      "[12.         13.         30.47619048]\n"
     ]
    }
   ],
   "source": [
    "import numpy as np\n",
    "A1 = [[15, 25, 35],[9, 8,7],[18, 12, 10]]\n",
    "B1 = [12, 13, 14]\n",
    "def Kram(A,B):\n",
    "    m = len(A)\n",
    "    op = np.linalg.det(A)\n",
    "    r = list()\n",
    "    for i in range(m):\n",
    "        VM=np.copy(A)\n",
    "        VM[:,i]=B\n",
    "        r.append(np.linalg.det(VM)/op)\n",
    "    return r\n",
    "\n",
    "X3 = Kram(A1,B1)\n",
    "print(X3)\n",
    "print(np.matmul(A, X3))"
   ]
  }
 ],
 "metadata": {
  "kernelspec": {
   "display_name": "Python 3",
   "language": "python",
   "name": "python3"
  },
  "language_info": {
   "codemirror_mode": {
    "name": "ipython",
    "version": 3
   },
   "file_extension": ".py",
   "mimetype": "text/x-python",
   "name": "python",
   "nbconvert_exporter": "python",
   "pygments_lexer": "ipython3",
   "version": "3.8.10"
  }
 },
 "nbformat": 4,
 "nbformat_minor": 4
}
